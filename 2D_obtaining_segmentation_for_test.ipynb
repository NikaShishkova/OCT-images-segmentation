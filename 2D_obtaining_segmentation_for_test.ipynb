{
  "cells": [
    {
      "cell_type": "code",
      "execution_count": null,
      "id": "c82ec377",
      "metadata": {
        "id": "c82ec377"
      },
      "outputs": [],
      "source": [
        "import numpy as np\n",
        "import matplotlib.pyplot as plt\n",
        "\n",
        "import torch\n",
        "import torch.nn as nn\n",
        "import torchvision.transforms.functional as TF\n",
        "\n",
        "import random"
      ]
    },
    {
      "cell_type": "code",
      "execution_count": null,
      "id": "35f2b84f",
      "metadata": {
        "id": "35f2b84f"
      },
      "outputs": [],
      "source": [
        "from tqdm import tqdm"
      ]
    },
    {
      "cell_type": "code",
      "execution_count": null,
      "metadata": {
        "id": "d9c48e81"
      },
      "outputs": [],
      "source": [
        "def read_data(folder):\n",
        "    data = np.load(folder + '/data.npy')\n",
        "    data[data < 0] = 0\n",
        "    return data"
      ],
      "id": "d9c48e81"
    },
    {
      "cell_type": "code",
      "execution_count": null,
      "metadata": {
        "id": "b8d7a518"
      },
      "outputs": [],
      "source": [
        "def cutted_array(data,start, end):\n",
        "    return data[:, :, start:end]"
      ],
      "id": "b8d7a518"
    },
    {
      "cell_type": "code",
      "execution_count": null,
      "id": "0c3cdf83",
      "metadata": {
        "id": "0c3cdf83"
      },
      "outputs": [],
      "source": [
        "class UNET(nn.Module):\n",
        "    def __init__(self, in_channels=1, classes=1):\n",
        "        super(UNET, self).__init__()\n",
        "        self.layers = [in_channels, 32, 64, 128, 256, 512]\n",
        "\n",
        "        self.double_conv_downs = nn.ModuleList(\n",
        "            [self.__double_conv(layer, layer_n) for layer, layer_n in zip(self.layers[:-1], self.layers[1:])])\n",
        "\n",
        "        self.up_trans = nn.ModuleList(\n",
        "            [nn.ConvTranspose2d(layer, layer_n, kernel_size=2, stride=2)\n",
        "             for layer, layer_n in zip(self.layers[::-1][:-2], self.layers[::-1][1:-1])])\n",
        "\n",
        "        self.double_conv_ups = nn.ModuleList(\n",
        "        [self.__double_conv(layer, layer//2) for layer in self.layers[::-1][:-2]])\n",
        "\n",
        "        self.max_pool_2x2 = nn.MaxPool2d(kernel_size=2, stride=2)\n",
        "\n",
        "        self.final_conv = nn.Conv2d(32, classes, kernel_size=1)\n",
        "\n",
        "\n",
        "    def __double_conv(self, in_channels, out_channels):\n",
        "        conv = nn.Sequential(\n",
        "            nn.Conv2d(in_channels, out_channels, kernel_size=3, padding=1, bias=False),\n",
        "            nn.BatchNorm2d(out_channels),\n",
        "            nn.ReLU(inplace=True),\n",
        "            nn.Conv2d(out_channels, out_channels, kernel_size=3, padding=1),\n",
        "            nn.ReLU(inplace=True)\n",
        "        )\n",
        "        return conv\n",
        "\n",
        "    def forward(self, x):\n",
        "        # down layers\n",
        "        concat_layers = []\n",
        "\n",
        "        for down in self.double_conv_downs:\n",
        "            x = x.float()\n",
        "            x = down(x)\n",
        "            if down != self.double_conv_downs[-1]:\n",
        "                concat_layers.append(x)\n",
        "                x = self.max_pool_2x2(x)\n",
        "\n",
        "        concat_layers = concat_layers[::-1]\n",
        "\n",
        "        # up layers\n",
        "        for up_trans, double_conv_up, concat_layer  in zip(self.up_trans, self.double_conv_ups, concat_layers):\n",
        "            x = up_trans(x)\n",
        "            if x.shape != concat_layer.shape:\n",
        "                x = TF.resize(x, concat_layer.shape[2:])\n",
        "\n",
        "            concatenated = torch.cat((concat_layer, x), dim=1)\n",
        "            x = double_conv_up(concatenated)\n",
        "\n",
        "        x = self.final_conv(x)\n",
        "\n",
        "        return x"
      ]
    },
    {
      "cell_type": "code",
      "execution_count": null,
      "id": "adf34be1",
      "metadata": {
        "id": "adf34be1"
      },
      "outputs": [],
      "source": [
        "def give_me_masks_from_model(num_array, num_model, data):\n",
        "    model = UNET(1, 5).to('cuda')\n",
        "    model.load_state_dict(torch.load('C:/Users/MK/Nika/2D/exp1/hyperparameter0/unet2d' + str(num_model), map_location=torch.device('cuda')))\n",
        "    model.eval()\n",
        "\n",
        "    data2 = np.zeros((256, 256, 512))\n",
        "    for x in range(256):\n",
        "        data2[x, :, :] = data[:, :, x]\n",
        "    data_blocks_tensor = torch.FloatTensor(data2)\n",
        "    out_new = np.zeros((256, 5, 256, 512))\n",
        "    for i in tqdm(range(256)):\n",
        "        out_new[i] = model(data_blocks_tensor[i].unsqueeze(0).unsqueeze(0).to('cuda')).detach().cpu()\n",
        "    masks = np.zeros((5, 256, 512, 256))\n",
        "    for z in tqdm(range(256)):\n",
        "        for x in range(256):\n",
        "            for y in range(512):\n",
        "                num = np.argmax(out_new[x, :, z, y])\n",
        "                masks[num, z, y, x] = 1\n",
        "    np.save('C:/Users/MK/Nika/2D/exp1/hyperparameter0/val/masks_model' + str(num_array) + '_' + str(num_model) + '.npy', masks)\n",
        "\n",
        "    plt.imshow(data[:, : , 3])\n",
        "    plt.imshow(masks[2, :, : , 3])"
      ]
    },
    {
      "cell_type": "code",
      "execution_count": null,
      "id": "38620af8",
      "metadata": {
        "id": "38620af8",
        "outputId": "80d372ea-e6e0-4ef8-84f6-3e43248088a4"
      },
      "outputs": [
        {
          "name": "stderr",
          "output_type": "stream",
          "text": [
            "100%|████████████████████████████████████████████████████████████████████████████████| 256/256 [00:14<00:00, 17.18it/s]\n",
            "100%|████████████████████████████████████████████████████████████████████████████████| 256/256 [01:18<00:00,  3.25it/s]\n",
            "100%|████████████████████████████████████████████████████████████████████████████████| 256/256 [00:04<00:00, 51.34it/s]\n",
            "100%|████████████████████████████████████████████████████████████████████████████████| 256/256 [01:18<00:00,  3.27it/s]\n",
            "100%|████████████████████████████████████████████████████████████████████████████████| 256/256 [00:04<00:00, 53.91it/s]\n",
            "100%|████████████████████████████████████████████████████████████████████████████████| 256/256 [01:17<00:00,  3.29it/s]\n",
            "100%|████████████████████████████████████████████████████████████████████████████████| 256/256 [00:04<00:00, 53.28it/s]\n",
            "100%|████████████████████████████████████████████████████████████████████████████████| 256/256 [01:17<00:00,  3.31it/s]\n",
            "100%|████████████████████████████████████████████████████████████████████████████████| 256/256 [00:04<00:00, 55.55it/s]\n",
            "100%|████████████████████████████████████████████████████████████████████████████████| 256/256 [01:17<00:00,  3.31it/s]\n",
            "100%|████████████████████████████████████████████████████████████████████████████████| 256/256 [00:04<00:00, 54.63it/s]\n",
            "100%|████████████████████████████████████████████████████████████████████████████████| 256/256 [01:16<00:00,  3.37it/s]\n",
            "100%|████████████████████████████████████████████████████████████████████████████████| 256/256 [00:04<00:00, 54.63it/s]\n",
            "100%|████████████████████████████████████████████████████████████████████████████████| 256/256 [01:16<00:00,  3.35it/s]\n",
            "100%|████████████████████████████████████████████████████████████████████████████████| 256/256 [00:04<00:00, 54.26it/s]\n",
            "100%|████████████████████████████████████████████████████████████████████████████████| 256/256 [01:16<00:00,  3.34it/s]\n",
            "100%|████████████████████████████████████████████████████████████████████████████████| 256/256 [00:04<00:00, 55.36it/s]\n",
            "100%|████████████████████████████████████████████████████████████████████████████████| 256/256 [01:16<00:00,  3.34it/s]\n"
          ]
        },
        {
          "data": {
            "image/png": "[encoded data removed]",
            "text/plain": [
              "<Figure size 640x480 with 1 Axes>"
            ]
          },
          "metadata": {},
          "output_type": "display_data"
        }
      ],
      "source": [
        "data = read_data('C:/Users/MK/Nika/размеченные датасеты/finger6')\n",
        "data = cutted_array(data, 60, 60+256)\n",
        "for ind_model in range(1,5):\n",
        "    give_me_masks_from_model(6, ind_model, data)\n",
        "\n",
        "\n",
        "data = read_data('C:/Users/MK/Nika/размеченные датасеты/finger5')\n",
        "data = cutted_array(data, 156, 156+256)\n",
        "for ind_model in range(0,5):\n",
        "    give_me_masks_from_model(5, ind_model, data)"
      ]
    }
  ],
  "metadata": {
    "kernelspec": {
      "display_name": "Pytorch GPU (Python 3.10)",
      "language": "python",
      "name": "pytorch-gpu-python-3-10"
    },
    "language_info": {
      "codemirror_mode": {
        "name": "ipython",
        "version": 3
      },
      "file_extension": ".py",
      "mimetype": "text/x-python",
      "name": "python",
      "nbconvert_exporter": "python",
      "pygments_lexer": "ipython3",
      "version": "3.10.12"
    },
    "colab": {
      "provenance": []
    }
  },
  "nbformat": 4,
  "nbformat_minor": 5
}