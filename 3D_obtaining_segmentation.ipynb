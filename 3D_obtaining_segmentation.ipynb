{
  "cells": [
    {
      "cell_type": "code",
      "execution_count": null,
      "metadata": {
        "id": "b04946c9"
      },
      "outputs": [],
      "source": [
        "import numpy as np\n",
        "import matplotlib.pyplot as plt\n",
        "\n",
        "import torch\n",
        "import torch.nn as nn\n",
        "import torchvision.transforms.functional as TF\n",
        "\n",
        "from tqdm import tqdm"
      ]
    },
    {
      "cell_type": "code",
      "execution_count": null,
      "metadata": {
        "id": "2WCmtpgLrN-7"
      },
      "outputs": [],
      "source": [
        "def read_data(folder):\n",
        "    data = np.load(folder + '/data.npy')\n",
        "    data[data < 0] = 0\n",
        "    return data"
      ]
    },
    {
      "cell_type": "code",
      "execution_count": null,
      "metadata": {
        "id": "0bc3651e"
      },
      "outputs": [],
      "source": [
        "def make_blocks(X):\n",
        "    blocks = []\n",
        "    for y in range(0, np.shape(X)[1], piece_size):\n",
        "        for x in range(0, np.shape(X)[2], piece_size):\n",
        "          if x + piece_size > np.shape(X)[2]:\n",
        "            break\n",
        "          blocks.append(X[:, y : y + piece_size, x : x + piece_size])\n",
        "    return torch.FloatTensor(blocks)"
      ]
    },
    {
      "cell_type": "code",
      "execution_count": null,
      "metadata": {
        "id": "huqHV1PJ_JIx"
      },
      "outputs": [],
      "source": [
        "piece_size = 64"
      ]
    },
    {
      "cell_type": "code",
      "execution_count": null,
      "metadata": {
        "id": "a5ba7c6f"
      },
      "outputs": [],
      "source": [
        "class UNET(nn.Module):\n",
        "    def __init__(self, in_channels=1, classes=1):\n",
        "        super(UNET, self).__init__()\n",
        "        self.layers = [in_channels, 32, 64, 128, 256, 512]\n",
        "\n",
        "        self.double_conv_downs = nn.ModuleList(\n",
        "            [self.__double_conv(layer, layer_n) for layer, layer_n in zip(self.layers[:-1], self.layers[1:])])\n",
        "\n",
        "        self.up_trans = nn.ModuleList(\n",
        "            [nn.ConvTranspose3d(layer, layer_n, kernel_size=2, stride=2)\n",
        "             for layer, layer_n in zip(self.layers[::-1][:-2], self.layers[::-1][1:-1])])\n",
        "\n",
        "        self.double_conv_ups = nn.ModuleList(\n",
        "        [self.__double_conv(layer, layer//2) for layer in self.layers[::-1][:-2]])\n",
        "\n",
        "        self.max_pool_2x2 = nn.MaxPool3d(kernel_size=2, stride=2)\n",
        "\n",
        "        self.final_conv = nn.Conv3d(32, classes, kernel_size=1)\n",
        "\n",
        "\n",
        "    def __double_conv(self, in_channels, out_channels):\n",
        "        conv = nn.Sequential(\n",
        "            nn.Conv3d(in_channels, out_channels, kernel_size=3, padding=1, bias=False),\n",
        "            nn.BatchNorm3d(out_channels),\n",
        "            nn.ReLU(inplace=True),\n",
        "            nn.Conv3d(out_channels, out_channels, kernel_size=3, padding=1),\n",
        "            nn.ReLU(inplace=True)\n",
        "        )\n",
        "        return conv\n",
        "\n",
        "    def forward(self, x):\n",
        "        # down layers\n",
        "        concat_layers = []\n",
        "\n",
        "        for down in self.double_conv_downs:\n",
        "            x = down(x)\n",
        "            if down != self.double_conv_downs[-1]:\n",
        "                concat_layers.append(x)\n",
        "                x = self.max_pool_2x2(x)\n",
        "\n",
        "        concat_layers = concat_layers[::-1]\n",
        "\n",
        "        # up layers\n",
        "        for up_trans, double_conv_up, concat_layer  in zip(self.up_trans, self.double_conv_ups, concat_layers):\n",
        "            x = up_trans(x)\n",
        "            if x.shape != concat_layer.shape:\n",
        "                x = TF.resize(x, concat_layer.shape[2:])\n",
        "\n",
        "            concatenated = torch.cat((concat_layer, x), dim=1)\n",
        "            x = double_conv_up(concatenated)\n",
        "\n",
        "        x = self.final_conv(x)\n",
        "\n",
        "        return x"
      ]
    },
    {
      "cell_type": "code",
      "execution_count": null,
      "metadata": {
        "id": "B8Y2gGOnuuD5"
      },
      "outputs": [],
      "source": [
        "model = UNET(1, 5).to('cuda')"
      ]
    },
    {
      "cell_type": "code",
      "execution_count": null,
      "metadata": {
        "colab": {
          "base_uri": "https://localhost:8080/"
        },
        "id": "YkfXTTblid8t",
        "outputId": "1f8c012a-32d6-4a06-d10f-d8ca963cfe0d"
      },
      "outputs": [
        {
          "name": "stdout",
          "output_type": "stream",
          "text": [
            "Total parameters: 22576933\n",
            "Trainable parameters: 22576933\n",
            "Non-trainable parameters: 0\n"
          ]
        }
      ],
      "source": [
        "def count_parameters(model):\n",
        "    total_params = sum(p.numel() for p in model.parameters())\n",
        "    trainable_params = sum(p.numel() for p in model.parameters() if p.requires_grad)\n",
        "    return total_params, trainable_params\n",
        "\n",
        "\n",
        "# Подсчитываем количество параметров\n",
        "total_params, trainable_params = count_parameters(model)\n",
        "\n",
        "print(f\"Total parameters: {total_params}\")\n",
        "print(f\"Trainable parameters: {trainable_params}\")\n",
        "print(f\"Non-trainable parameters: {total_params - trainable_params}\")"
      ]
    },
    {
      "cell_type": "code",
      "source": [],
      "metadata": {
        "id": "UPNJ4_XWEXTh"
      },
      "execution_count": null,
      "outputs": []
    },
    {
      "cell_type": "markdown",
      "metadata": {
        "jp-MarkdownHeadingCollapsed": true,
        "id": "ToGzXqgH_JJj"
      },
      "source": [
        "## Проверка модели с 4 эпохами"
      ]
    },
    {
      "cell_type": "markdown",
      "metadata": {
        "id": "2XBnh06Q_JJj"
      },
      "source": [
        "## 2 cross val"
      ]
    },
    {
      "cell_type": "code",
      "execution_count": null,
      "metadata": {
        "id": "q7baHfv0_JJj"
      },
      "outputs": [],
      "source": [
        "def mask_from_model(num):\n",
        "    model = UNET(1, 5).to('cuda')\n",
        "    model.load_state_dict(torch.load('C:/Users/MK/Nika/exp5/hyperparameter2/unet3d'+ num, map_location=torch.device('cuda')))\n",
        "    model.eval()\n",
        "\n",
        "    data = np.load('C:/Users/MK/Nika/Data64/finger'+ num + '_data.npy')\n",
        "\n",
        "    blocks1 = torch.load('C:/Users/MK/Nika/Data64/finger'+ num + '.pt')\n",
        "    blocks2 = torch.load('C:/Users/MK/Nika/Data64/finger'+ num + '_2.pt')\n",
        "    blocks1 = blocks1.to('cuda')\n",
        "    blocks2 = blocks2.to('cuda')\n",
        "\n",
        "    out_model = np.zeros((blocks1.size()[0], 5, 256, piece_size, piece_size))\n",
        "    for i in range(blocks1.size()[0]):\n",
        "      out_model[i] = model(blocks1[i].unsqueeze(0).unsqueeze(0).to('cuda')).detach().cpu()\n",
        "    in_new = np.zeros((blocks2.size()[0], 5, 256, piece_size, piece_size))\n",
        "    for i in tqdm(range(blocks2.size()[0])):\n",
        "      in_new[i] = model(blocks2[i].unsqueeze(0).unsqueeze(0).to('cuda')).detach().cpu()\n",
        "    data_out = np.zeros((5, 256, data.shape[1], data.shape[2]))\n",
        "    for y_step in range(data.shape[1]//piece_size):\n",
        "      for x_step in range(data.shape[2]//piece_size):\n",
        "        x_begin = x_step*piece_size\n",
        "        x_end = x_step*piece_size + piece_size\n",
        "        y_begin = y_step*piece_size\n",
        "        y_end = y_step*piece_size+piece_size\n",
        "        num_block = x_step+y_step*(data.shape[2]//piece_size)\n",
        "        data_out[:,:, y_begin:y_end, x_begin:x_end] = out_model[num_block, :,:,:,:]\n",
        "    data_out_new = np.zeros((5, 256, np.shape(data)[1]-piece_size, np.shape(data)[2]-piece_size))\n",
        "    for y_step in range(data.shape[1]//piece_size-1):\n",
        "      for x_step in range(data.shape[2]//piece_size-1):\n",
        "        x_begin = x_step*piece_size\n",
        "        x_end = x_step*piece_size + piece_size\n",
        "        y_begin = y_step*piece_size\n",
        "        y_end = y_step*piece_size+piece_size\n",
        "        num_block = x_step+y_step*(data.shape[2]//piece_size-1)\n",
        "        data_out_new[:,:, y_begin:y_end,x_begin:x_end] = in_new[num_block, :,:,:,:]\n",
        "    for x in range(piece_size//2, data.shape[2] - piece_size//2):\n",
        "      for y in range(piece_size//2, data.shape[1] - piece_size//2):\n",
        "        data_out[:, :, y, x] += data_out_new[:, :, y-piece_size//2, x-piece_size//2]\n",
        "        data_out[:, :, y, x] /= 2\n",
        "    masks_out_with_bags = np.zeros((5, 256, data_out.shape[2], data_out.shape[3]))\n",
        "    for x in tqdm(range(data_out.shape[3])):\n",
        "      for y in range(data_out.shape[2]):\n",
        "        for z in range(256):\n",
        "          ind = np.argmax(data_out[:, z, y, x])\n",
        "          masks_out_with_bags[ind, z, y, x] = 1\n",
        "    np.save('C:/Users/MK/Nika/exp5/hyperparameter2/val/masks_model'+ num + '.npy', masks_out_with_bags)"
      ]
    },
    {
      "cell_type": "code",
      "execution_count": null,
      "metadata": {
        "id": "AfqzWXvk_JJj",
        "outputId": "852f1af7-667a-40f4-8006-f0c9fe0f32ee"
      },
      "outputs": [
        {
          "name": "stderr",
          "output_type": "stream",
          "text": [
            "100%|██████████████████████████████████████████████████████████████████████████████████| 21/21 [00:03<00:00,  6.58it/s]\n",
            "100%|████████████████████████████████████████████████████████████████████████████████| 256/256 [01:26<00:00,  2.97it/s]\n"
          ]
        }
      ],
      "source": [
        "mask_from_model(str(0))"
      ]
    },
    {
      "cell_type": "code",
      "execution_count": null,
      "metadata": {
        "id": "0iCbOVbH_JJj",
        "outputId": "0e9278f8-b025-453b-d04f-53ccbd390fe1"
      },
      "outputs": [
        {
          "name": "stderr",
          "output_type": "stream",
          "text": [
            "100%|██████████████████████████████████████████████████████████████████████████████████| 21/21 [00:03<00:00,  6.55it/s]\n",
            "100%|████████████████████████████████████████████████████████████████████████████████| 256/256 [01:25<00:00,  2.98it/s]\n"
          ]
        }
      ],
      "source": [
        "mask_from_model(str(1))"
      ]
    },
    {
      "cell_type": "code",
      "execution_count": null,
      "metadata": {
        "id": "kcAdeNj6_JJk",
        "outputId": "86091171-5cf2-4794-e26d-5e2bc145f105"
      },
      "outputs": [
        {
          "name": "stderr",
          "output_type": "stream",
          "text": [
            "100%|██████████████████████████████████████████████████████████████████████████████████| 21/21 [00:03<00:00,  6.64it/s]\n",
            "100%|████████████████████████████████████████████████████████████████████████████████| 256/256 [01:24<00:00,  3.05it/s]\n"
          ]
        }
      ],
      "source": [
        "mask_from_model(str(2))"
      ]
    },
    {
      "cell_type": "code",
      "execution_count": null,
      "metadata": {
        "id": "S4T-M1DT_JJk",
        "outputId": "fa48e9d2-3ac8-4637-9592-83ad1c3dc6bf"
      },
      "outputs": [
        {
          "name": "stderr",
          "output_type": "stream",
          "text": [
            "100%|██████████████████████████████████████████████████████████████████████████████████| 21/21 [00:02<00:00,  7.11it/s]\n",
            "100%|████████████████████████████████████████████████████████████████████████████████| 256/256 [01:21<00:00,  3.14it/s]\n"
          ]
        }
      ],
      "source": [
        "mask_from_model(str(3))"
      ]
    },
    {
      "cell_type": "code",
      "execution_count": null,
      "metadata": {
        "id": "TsPVHrJx_JJk",
        "outputId": "2fcdabb9-3904-4f88-c3c4-2c5155501f33"
      },
      "outputs": [
        {
          "name": "stderr",
          "output_type": "stream",
          "text": [
            "100%|██████████████████████████████████████████████████████████████████████████████████| 21/21 [00:03<00:00,  6.65it/s]\n",
            "100%|████████████████████████████████████████████████████████████████████████████████| 256/256 [01:23<00:00,  3.07it/s]\n"
          ]
        }
      ],
      "source": [
        "mask_from_model(str(4))"
      ]
    },
    {
      "cell_type": "markdown",
      "metadata": {
        "id": "4z4I17EJ_JJk"
      },
      "source": [
        "# Эксперимент с 40 эпохами"
      ]
    },
    {
      "cell_type": "markdown",
      "metadata": {
        "id": "LgCGxL2f_JJk"
      },
      "source": [
        "## 2 cross val"
      ]
    },
    {
      "cell_type": "code",
      "execution_count": null,
      "metadata": {
        "id": "POLgfTJN_JJk"
      },
      "outputs": [],
      "source": [
        "def mask_from_model(num):\n",
        "    model = UNET(1, 5).to('cuda')\n",
        "    model.load_state_dict(torch.load('C:/Users/MK/Nika/exp5/hyperparameter3/unet3d'+ num, map_location=torch.device('cuda')))\n",
        "    model.eval()\n",
        "\n",
        "    data = np.load('C:/Users/MK/Nika/Data64/finger'+ num + '_data.npy')\n",
        "\n",
        "    blocks1 = torch.load('C:/Users/MK/Nika/Data64/finger'+ num + '.pt')\n",
        "    blocks2 = torch.load('C:/Users/MK/Nika/Data64/finger'+ num + '_2.pt')\n",
        "    blocks1 = blocks1.to('cuda')\n",
        "    blocks2 = blocks2.to('cuda')\n",
        "\n",
        "    out_model = np.zeros((blocks1.size()[0], 5, 256, piece_size, piece_size))\n",
        "    for i in range(blocks1.size()[0]):\n",
        "      out_model[i] = model(blocks1[i].unsqueeze(0).unsqueeze(0).to('cuda')).detach().cpu()\n",
        "    in_new = np.zeros((blocks2.size()[0], 5, 256, piece_size, piece_size))\n",
        "    for i in tqdm(range(blocks2.size()[0])):\n",
        "      in_new[i] = model(blocks2[i].unsqueeze(0).unsqueeze(0).to('cuda')).detach().cpu()\n",
        "    data_out = np.zeros((5, 256, data.shape[1], data.shape[2]))\n",
        "    for y_step in range(data.shape[1]//piece_size):\n",
        "      for x_step in range(data.shape[2]//piece_size):\n",
        "        x_begin = x_step*piece_size\n",
        "        x_end = x_step*piece_size + piece_size\n",
        "        y_begin = y_step*piece_size\n",
        "        y_end = y_step*piece_size+piece_size\n",
        "        num_block = x_step+y_step*(data.shape[2]//piece_size)\n",
        "        data_out[:,:, y_begin:y_end, x_begin:x_end] = out_model[num_block, :,:,:,:]\n",
        "    data_out_new = np.zeros((5, 256, np.shape(data)[1]-piece_size, np.shape(data)[2]-piece_size))\n",
        "    for y_step in range(data.shape[1]//piece_size-1):\n",
        "      for x_step in range(data.shape[2]//piece_size-1):\n",
        "        x_begin = x_step*piece_size\n",
        "        x_end = x_step*piece_size + piece_size\n",
        "        y_begin = y_step*piece_size\n",
        "        y_end = y_step*piece_size+piece_size\n",
        "        num_block = x_step+y_step*(data.shape[2]//piece_size-1)\n",
        "        data_out_new[:,:, y_begin:y_end,x_begin:x_end] = in_new[num_block, :,:,:,:]\n",
        "    for x in range(piece_size//2, data.shape[2] - piece_size//2):\n",
        "      for y in range(piece_size//2, data.shape[1] - piece_size//2):\n",
        "        data_out[:, :, y, x] += data_out_new[:, :, y-piece_size//2, x-piece_size//2]\n",
        "        data_out[:, :, y, x] /= 2\n",
        "    masks_out_with_bags = np.zeros((5, 256, data_out.shape[2], data_out.shape[3]))\n",
        "    for x in tqdm(range(data_out.shape[3])):\n",
        "      for y in range(data_out.shape[2]):\n",
        "        for z in range(256):\n",
        "          ind = np.argmax(data_out[:, z, y, x])\n",
        "          masks_out_with_bags[ind, z, y, x] = 1\n",
        "    np.save('C:/Users/MK/Nika/exp5/hyperparameter3/val/masks_model'+ num + '.npy', masks_out_with_bags)"
      ]
    },
    {
      "cell_type": "code",
      "execution_count": null,
      "metadata": {
        "id": "rrreodIk_JJl",
        "outputId": "d9d044b8-4360-49a3-aad3-c8d399eaf580"
      },
      "outputs": [
        {
          "name": "stderr",
          "output_type": "stream",
          "text": [
            "100%|██████████████████████████████████████████████████████████████████████████████████| 21/21 [00:02<00:00,  7.11it/s]\n",
            "100%|████████████████████████████████████████████████████████████████████████████████| 256/256 [01:22<00:00,  3.09it/s]\n"
          ]
        }
      ],
      "source": [
        "mask_from_model(str(0))"
      ]
    },
    {
      "cell_type": "code",
      "execution_count": null,
      "metadata": {
        "id": "3WgzxLgy_JJl",
        "outputId": "ffab1ae5-8104-4c2c-f7f3-fd8a9f41ba44"
      },
      "outputs": [
        {
          "name": "stderr",
          "output_type": "stream",
          "text": [
            "100%|██████████████████████████████████████████████████████████████████████████████████| 21/21 [00:02<00:00,  7.30it/s]\n",
            "100%|████████████████████████████████████████████████████████████████████████████████| 256/256 [01:23<00:00,  3.08it/s]\n"
          ]
        }
      ],
      "source": [
        "mask_from_model(str(1))"
      ]
    },
    {
      "cell_type": "code",
      "execution_count": null,
      "metadata": {
        "id": "X2F0DoBw_JJl",
        "outputId": "1ac0a111-abfc-4bcd-d5c8-78d2c5372b09"
      },
      "outputs": [
        {
          "name": "stderr",
          "output_type": "stream",
          "text": [
            "100%|██████████████████████████████████████████████████████████████████████████████████| 21/21 [00:02<00:00,  7.30it/s]\n",
            "100%|████████████████████████████████████████████████████████████████████████████████| 256/256 [01:24<00:00,  3.04it/s]\n"
          ]
        }
      ],
      "source": [
        "mask_from_model(str(2))"
      ]
    },
    {
      "cell_type": "code",
      "execution_count": null,
      "metadata": {
        "id": "sIxrLyLA_JJm",
        "outputId": "2a4c4e04-7909-4741-b967-d754509f63c7"
      },
      "outputs": [
        {
          "name": "stderr",
          "output_type": "stream",
          "text": [
            "100%|██████████████████████████████████████████████████████████████████████████████████| 21/21 [00:02<00:00,  7.28it/s]\n",
            "100%|████████████████████████████████████████████████████████████████████████████████| 256/256 [01:22<00:00,  3.11it/s]\n"
          ]
        }
      ],
      "source": [
        "mask_from_model(str(3))"
      ]
    },
    {
      "cell_type": "code",
      "execution_count": null,
      "metadata": {
        "id": "daUeHV03_JJm",
        "outputId": "5fca3f6d-6eaf-46a9-ffdd-52e28ecf66e9"
      },
      "outputs": [
        {
          "name": "stderr",
          "output_type": "stream",
          "text": [
            "100%|██████████████████████████████████████████████████████████████████████████████████| 21/21 [00:02<00:00,  7.26it/s]\n",
            "100%|████████████████████████████████████████████████████████████████████████████████| 256/256 [01:22<00:00,  3.10it/s]\n"
          ]
        }
      ],
      "source": [
        "mask_from_model(str(4))"
      ]
    }
  ],
  "metadata": {
    "colab": {
      "provenance": []
    },
    "kernelspec": {
      "display_name": "Pytorch GPU (Python 3.10)",
      "language": "python",
      "name": "pytorch-gpu-python-3-10"
    },
    "language_info": {
      "codemirror_mode": {
        "name": "ipython",
        "version": 3
      },
      "file_extension": ".py",
      "mimetype": "text/x-python",
      "name": "python",
      "nbconvert_exporter": "python",
      "pygments_lexer": "ipython3",
      "version": "3.10.12"
    }
  },
  "nbformat": 4,
  "nbformat_minor": 0
}