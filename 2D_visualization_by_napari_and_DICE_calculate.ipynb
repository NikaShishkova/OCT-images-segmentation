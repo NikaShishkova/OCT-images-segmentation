{
  "cells": [
    {
      "cell_type": "code",
      "execution_count": null,
      "id": "21f8b16f",
      "metadata": {
        "id": "21f8b16f"
      },
      "outputs": [],
      "source": [
        "import numpy as np\n",
        "import matplotlib.pyplot as plt\n",
        "\n",
        "import torch\n",
        "\n",
        "import napari\n",
        "\n",
        "from tqdm import tqdm"
      ]
    },
    {
      "cell_type": "code",
      "execution_count": null,
      "id": "518dd191",
      "metadata": {
        "id": "518dd191"
      },
      "outputs": [],
      "source": [
        "def read_data_and_levels(folder):\n",
        "    data = np.load(folder + '/data.npy')\n",
        "    data[data < 0] = 0\n",
        "    levels = np.load(folder + '/levels.npy')\n",
        "    return data , levels"
      ]
    },
    {
      "cell_type": "code",
      "execution_count": null,
      "id": "b21f1ae9",
      "metadata": {
        "id": "b21f1ae9"
      },
      "outputs": [],
      "source": [
        "def create_mask(upper_layer, second_layer):\n",
        "    mask = np.zeros((256, 512, 512), dtype=int)\n",
        "    for x in range(512):\n",
        "        for y in range(512):\n",
        "            z1 = upper_layer[x, y]\n",
        "            z2 = second_layer[x, y]\n",
        "            mask[int(z1):int(z2), y, x] = 1\n",
        "    return mask"
      ]
    },
    {
      "cell_type": "code",
      "execution_count": null,
      "id": "f05b6ffb",
      "metadata": {
        "id": "f05b6ffb"
      },
      "outputs": [],
      "source": [
        "def cutted_array(data, masks, start, end):\n",
        "    return data[:, :, start:end], masks[:, :, :, start:end]"
      ]
    },
    {
      "cell_type": "code",
      "execution_count": null,
      "id": "6258a136",
      "metadata": {
        "id": "6258a136"
      },
      "outputs": [],
      "source": [
        "def from_levels_to_masks(levels):\n",
        "    masks = np.zeros((5, 256, 512, 512), dtype=int)\n",
        "    zero_level = np.zeros((512, 512))\n",
        "    last_level = np.ones((512, 512)) * 255\n",
        "    masks[0] = create_mask(zero_level, levels[0])\n",
        "    masks[1] = create_mask(levels[0], levels[1])\n",
        "    masks[2] = create_mask(levels[1], levels[2])\n",
        "    masks[3] = create_mask(levels[2], levels[3])\n",
        "    masks[4] = create_mask(levels[3], last_level)\n",
        "    return masks"
      ]
    },
    {
      "cell_type": "code",
      "execution_count": null,
      "id": "8f23fe28",
      "metadata": {
        "id": "8f23fe28"
      },
      "outputs": [],
      "source": [
        "def DICE_COE(mask1, mask2):\n",
        "    intersect = np.sum(mask1*mask2)\n",
        "    fsum = np.sum(mask1)\n",
        "    ssum = np.sum(mask2)\n",
        "    dice = (2 * intersect ) / (fsum + ssum)\n",
        "    # dice = round(dice, 3) # for easy reading\n",
        "    return dice"
      ]
    },
    {
      "cell_type": "code",
      "execution_count": null,
      "id": "f601c681",
      "metadata": {
        "id": "f601c681"
      },
      "outputs": [],
      "source": [
        "def viewer_data(data, masks):\n",
        "    viewer = napari.view_image(data, name='3D Image', colormap='afmhot', contrast_limits = (15,  41))\n",
        "    colors = np.linspace(\n",
        "        start=[1, 1, 1, 1],\n",
        "        stop=[0, 1, 0, 1],\n",
        "        num=10,\n",
        "        endpoint=True\n",
        "    )\n",
        "    colors[0] = np.array([1., 1., 1., 0])\n",
        "    new_colormap = {\n",
        "      'colors': colors,\n",
        "      'name': 'white_to_green',\n",
        "      'interpolation': 'linear'\n",
        "    }\n",
        "\n",
        "    for i in range(5):\n",
        "        viewer.add_image(masks[i], name='Segmentation Mask', colormap=new_colormap, opacity=0.3)\n",
        "    napari.run()"
      ]
    },
    {
      "cell_type": "markdown",
      "source": [
        "This is not done in a loop, as it is important to visualize and review it in person in napari:"
      ],
      "metadata": {
        "id": "gw3Jvb5X9oaB"
      },
      "id": "gw3Jvb5X9oaB"
    },
    {
      "cell_type": "markdown",
      "id": "bc1e999b",
      "metadata": {
        "id": "bc1e999b"
      },
      "source": [
        "### Finger 5 (Nika)"
      ]
    },
    {
      "cell_type": "code",
      "execution_count": null,
      "id": "66f04e67",
      "metadata": {
        "id": "66f04e67"
      },
      "outputs": [],
      "source": [
        "data, levels = read_data_and_levels('C:/Users/MK/Nika/размеченные датасеты/finger5')\n",
        "masks = from_levels_to_masks(levels)\n",
        "data, masks = cutted_array(data, masks, 156, 156+256)"
      ]
    },
    {
      "cell_type": "code",
      "execution_count": null,
      "id": "64e0605c",
      "metadata": {
        "id": "64e0605c"
      },
      "outputs": [],
      "source": [
        "num_array = 5\n",
        "num_model = 0"
      ]
    },
    {
      "cell_type": "code",
      "execution_count": null,
      "id": "584a9a07",
      "metadata": {
        "id": "584a9a07"
      },
      "outputs": [],
      "source": [
        "masks_model = np.load('C:/Users/MK/Nika/2D/exp1/hyperparameter0/val/masks_model'\n",
        "                          + str(num_array) + '_' + str(num_model) + '.npy')"
      ]
    },
    {
      "cell_type": "code",
      "execution_count": null,
      "id": "0e42d38a",
      "metadata": {
        "id": "0e42d38a"
      },
      "outputs": [],
      "source": [
        "viewer_data(data, masks_model)"
      ]
    },
    {
      "cell_type": "code",
      "execution_count": null,
      "id": "20f643e5",
      "metadata": {
        "id": "20f643e5",
        "outputId": "fd0a9bae-3b8b-480e-bfae-e76248497857"
      },
      "outputs": [
        {
          "name": "stdout",
          "output_type": "stream",
          "text": [
            "[0.99620216 0.82791241 0.74384209 0.7208457  0.97981774]\n",
            "0.853724022167366\n"
          ]
        }
      ],
      "source": [
        "dice = np.zeros(5)\n",
        "for i in range(5):\n",
        "    dice[i] = DICE_COE(masks[i], masks_model[i])\n",
        "print(dice)\n",
        "print(np.mean(dice))"
      ]
    },
    {
      "cell_type": "code",
      "execution_count": null,
      "id": "10245fe4",
      "metadata": {
        "id": "10245fe4"
      },
      "outputs": [],
      "source": [
        "num_model = 1"
      ]
    },
    {
      "cell_type": "code",
      "execution_count": null,
      "id": "90b78251",
      "metadata": {
        "id": "90b78251"
      },
      "outputs": [],
      "source": [
        "masks_model = np.load('C:/Users/MK/Nika/2D/exp1/hyperparameter0/val/masks_model'\n",
        "                          + str(num_array) + '_' + str(num_model) + '.npy')"
      ]
    },
    {
      "cell_type": "code",
      "execution_count": null,
      "id": "675808f8",
      "metadata": {
        "id": "675808f8"
      },
      "outputs": [],
      "source": [
        "viewer_data(data, masks_model)"
      ]
    },
    {
      "cell_type": "code",
      "execution_count": null,
      "id": "6d42dd98",
      "metadata": {
        "id": "6d42dd98",
        "outputId": "cb57ef0f-69a9-4f83-82f0-5fcb27508c29"
      },
      "outputs": [
        {
          "name": "stdout",
          "output_type": "stream",
          "text": [
            "[0.99620653 0.84096388 0.90227014 0.85376593 0.98591299]\n",
            "0.9158238924194663\n"
          ]
        }
      ],
      "source": [
        "dice = np.zeros(5)\n",
        "for i in range(5):\n",
        "    dice[i] = DICE_COE(masks[i], masks_model[i])\n",
        "print(dice)\n",
        "print(np.mean(dice))"
      ]
    },
    {
      "cell_type": "code",
      "execution_count": null,
      "id": "8df4cf2a",
      "metadata": {
        "id": "8df4cf2a"
      },
      "outputs": [],
      "source": [
        "num_model = 2"
      ]
    },
    {
      "cell_type": "code",
      "execution_count": null,
      "id": "fbd4f03c",
      "metadata": {
        "id": "fbd4f03c"
      },
      "outputs": [],
      "source": [
        "masks_model = np.load('C:/Users/MK/Nika/2D/exp1/hyperparameter0/val/masks_model'\n",
        "                          + str(num_array) + '_' + str(num_model) + '.npy')"
      ]
    },
    {
      "cell_type": "code",
      "execution_count": null,
      "id": "742f7458",
      "metadata": {
        "id": "742f7458"
      },
      "outputs": [],
      "source": [
        "viewer_data(data, masks_model)"
      ]
    },
    {
      "cell_type": "code",
      "execution_count": null,
      "id": "b3cd5964",
      "metadata": {
        "id": "b3cd5964",
        "outputId": "cc4b501e-e9a1-4c41-e5c0-1ef92c2076aa"
      },
      "outputs": [
        {
          "name": "stdout",
          "output_type": "stream",
          "text": [
            "[0.98425693 0.86586063 0.87417823 0.80102087 0.97790004]\n",
            "0.9006433405120026\n"
          ]
        }
      ],
      "source": [
        "dice = np.zeros(5)\n",
        "for i in range(5):\n",
        "    dice[i] = DICE_COE(masks[i], masks_model[i])\n",
        "print(dice)\n",
        "print(np.mean(dice))"
      ]
    },
    {
      "cell_type": "code",
      "execution_count": null,
      "id": "19e10ee5",
      "metadata": {
        "id": "19e10ee5"
      },
      "outputs": [],
      "source": [
        "num_model = 3"
      ]
    },
    {
      "cell_type": "code",
      "execution_count": null,
      "id": "ae4b6181",
      "metadata": {
        "id": "ae4b6181"
      },
      "outputs": [],
      "source": [
        "masks_model = np.load('C:/Users/MK/Nika/2D/exp1/hyperparameter0/val/masks_model'\n",
        "                          + str(num_array) + '_' + str(num_model) + '.npy')"
      ]
    },
    {
      "cell_type": "code",
      "execution_count": null,
      "id": "46333f08",
      "metadata": {
        "id": "46333f08"
      },
      "outputs": [],
      "source": [
        "viewer_data(data, masks_model)"
      ]
    },
    {
      "cell_type": "code",
      "execution_count": null,
      "id": "ccaa9dba",
      "metadata": {
        "id": "ccaa9dba",
        "outputId": "551fc38a-a6bb-4756-bc3d-80a511f3078a"
      },
      "outputs": [
        {
          "name": "stdout",
          "output_type": "stream",
          "text": [
            "[0.99586764 0.82546666 0.89059657 0.83564675 0.97921923]\n",
            "0.9053593712649086\n"
          ]
        }
      ],
      "source": [
        "dice = np.zeros(5)\n",
        "for i in range(5):\n",
        "    dice[i] = DICE_COE(masks[i], masks_model[i])\n",
        "print(dice)\n",
        "print(np.mean(dice))"
      ]
    },
    {
      "cell_type": "code",
      "execution_count": null,
      "id": "a8326181",
      "metadata": {
        "id": "a8326181"
      },
      "outputs": [],
      "source": [
        "num_model = 4"
      ]
    },
    {
      "cell_type": "code",
      "execution_count": null,
      "id": "f5fe5ea4",
      "metadata": {
        "id": "f5fe5ea4"
      },
      "outputs": [],
      "source": [
        "masks_model = np.load('C:/Users/MK/Nika/2D/exp1/hyperparameter0/val/masks_model'\n",
        "                          + str(num_array) + '_' + str(num_model) + '.npy')"
      ]
    },
    {
      "cell_type": "code",
      "execution_count": null,
      "id": "5c49f2b6",
      "metadata": {
        "id": "5c49f2b6"
      },
      "outputs": [],
      "source": [
        "viewer_data(data, masks_model)"
      ]
    },
    {
      "cell_type": "code",
      "execution_count": null,
      "id": "1ae39a9b",
      "metadata": {
        "id": "1ae39a9b",
        "outputId": "834d4796-447a-4410-c53b-ca5c3cf2e7fd"
      },
      "outputs": [
        {
          "name": "stdout",
          "output_type": "stream",
          "text": [
            "[0.9960993  0.86838172 0.82800118 0.78674533 0.98533959]\n",
            "0.8929134250058709\n"
          ]
        }
      ],
      "source": [
        "dice = np.zeros(5)\n",
        "for i in range(5):\n",
        "    dice[i] = DICE_COE(masks[i], masks_model[i])\n",
        "print(dice)\n",
        "print(np.mean(dice))"
      ]
    },
    {
      "cell_type": "markdown",
      "id": "9699f235",
      "metadata": {
        "id": "9699f235"
      },
      "source": [
        "### Finger0 (Mikel)"
      ]
    },
    {
      "cell_type": "code",
      "execution_count": null,
      "id": "c420f89f",
      "metadata": {
        "id": "c420f89f"
      },
      "outputs": [],
      "source": [
        "data, levels = read_data_and_levels('C:/Users/MK/Nika/размеченные датасеты/finger6')\n",
        "masks = from_levels_to_masks(levels)\n",
        "data, masks = cutted_array(data, masks, 60, 60+256)"
      ]
    },
    {
      "cell_type": "code",
      "execution_count": null,
      "id": "c02eaca4",
      "metadata": {
        "id": "c02eaca4"
      },
      "outputs": [],
      "source": [
        "num_array = 6\n",
        "num_model = 0"
      ]
    },
    {
      "cell_type": "code",
      "execution_count": null,
      "id": "cb658d7e",
      "metadata": {
        "id": "cb658d7e"
      },
      "outputs": [],
      "source": [
        "masks_model = np.load('C:/Users/MK/Nika/2D/exp1/hyperparameter0/val/masks_model'\n",
        "                          + str(num_array) + '_' + str(num_model) + '.npy')"
      ]
    },
    {
      "cell_type": "code",
      "execution_count": null,
      "id": "7719fef4",
      "metadata": {
        "id": "7719fef4"
      },
      "outputs": [],
      "source": [
        "viewer_data(data, masks_model)"
      ]
    },
    {
      "cell_type": "code",
      "execution_count": null,
      "id": "adb85b91",
      "metadata": {
        "id": "adb85b91",
        "outputId": "3886a05b-6f2b-4b34-b41a-5f78a16aa67e"
      },
      "outputs": [
        {
          "name": "stdout",
          "output_type": "stream",
          "text": [
            "[0.99389829 0.95779201 0.97367052 0.90384217 0.97815079]\n",
            "0.9614707567943876\n"
          ]
        }
      ],
      "source": [
        "dice = np.zeros(5)\n",
        "for i in range(5):\n",
        "    dice[i] = DICE_COE(masks[i], masks_model[i])\n",
        "print(dice)\n",
        "print(np.mean(dice))"
      ]
    },
    {
      "cell_type": "code",
      "execution_count": null,
      "id": "a97cd86f",
      "metadata": {
        "id": "a97cd86f"
      },
      "outputs": [],
      "source": [
        "num_model = 1"
      ]
    },
    {
      "cell_type": "code",
      "execution_count": null,
      "id": "a8496257",
      "metadata": {
        "id": "a8496257"
      },
      "outputs": [],
      "source": [
        "masks_model = np.load('C:/Users/MK/Nika/2D/exp1/hyperparameter0/val/masks_model'\n",
        "                          + str(num_array) + '_' + str(num_model) + '.npy')"
      ]
    },
    {
      "cell_type": "code",
      "execution_count": null,
      "id": "f6b851a9",
      "metadata": {
        "id": "f6b851a9"
      },
      "outputs": [],
      "source": [
        "viewer_data(data, masks_model)"
      ]
    },
    {
      "cell_type": "code",
      "execution_count": null,
      "id": "1a19d6fc",
      "metadata": {
        "id": "1a19d6fc",
        "outputId": "a4d2c28e-b722-4d92-8d35-2e4aefab5d97"
      },
      "outputs": [
        {
          "name": "stdout",
          "output_type": "stream",
          "text": [
            "[0.99377793 0.95919986 0.97732937 0.9302092  0.9855632 ]\n",
            "0.9692159135307452\n"
          ]
        }
      ],
      "source": [
        "dice = np.zeros(5)\n",
        "for i in range(5):\n",
        "    dice[i] = DICE_COE(masks[i], masks_model[i])\n",
        "print(dice)\n",
        "print(np.mean(dice))"
      ]
    },
    {
      "cell_type": "code",
      "execution_count": null,
      "id": "93bde9df",
      "metadata": {
        "id": "93bde9df"
      },
      "outputs": [],
      "source": [
        "num_model = 2"
      ]
    },
    {
      "cell_type": "code",
      "execution_count": null,
      "id": "a04e5b95",
      "metadata": {
        "id": "a04e5b95"
      },
      "outputs": [],
      "source": [
        "masks_model = np.load('C:/Users/MK/Nika/2D/exp1/hyperparameter0/val/masks_model'\n",
        "                          + str(num_array) + '_' + str(num_model) + '.npy')"
      ]
    },
    {
      "cell_type": "code",
      "execution_count": null,
      "id": "bc49d64f",
      "metadata": {
        "id": "bc49d64f"
      },
      "outputs": [],
      "source": [
        "viewer_data(data, masks_model)"
      ]
    },
    {
      "cell_type": "code",
      "execution_count": null,
      "id": "42420cc7",
      "metadata": {
        "id": "42420cc7",
        "outputId": "72967d94-e82a-430c-8ba0-269474b549e9"
      },
      "outputs": [
        {
          "name": "stdout",
          "output_type": "stream",
          "text": [
            "[0.99460469 0.96052736 0.96754273 0.89829632 0.97736775]\n",
            "0.9596677708959798\n"
          ]
        }
      ],
      "source": [
        "dice = np.zeros(5)\n",
        "for i in range(5):\n",
        "    dice[i] = DICE_COE(masks[i], masks_model[i])\n",
        "print(dice)\n",
        "print(np.mean(dice))"
      ]
    },
    {
      "cell_type": "code",
      "execution_count": null,
      "id": "dda1db28",
      "metadata": {
        "id": "dda1db28"
      },
      "outputs": [],
      "source": [
        "num_model = 3"
      ]
    },
    {
      "cell_type": "code",
      "execution_count": null,
      "id": "0ddae7bd",
      "metadata": {
        "id": "0ddae7bd"
      },
      "outputs": [],
      "source": [
        "masks_model = np.load('C:/Users/MK/Nika/2D/exp1/hyperparameter0/val/masks_model'\n",
        "                          + str(num_array) + '_' + str(num_model) + '.npy')"
      ]
    },
    {
      "cell_type": "code",
      "execution_count": null,
      "id": "d6cec1bc",
      "metadata": {
        "id": "d6cec1bc"
      },
      "outputs": [],
      "source": [
        "viewer_data(data, masks_model)"
      ]
    },
    {
      "cell_type": "code",
      "execution_count": null,
      "id": "f57906e0",
      "metadata": {
        "id": "f57906e0",
        "outputId": "a7085087-a346-4854-fdb1-66ae679fd4b0"
      },
      "outputs": [
        {
          "name": "stdout",
          "output_type": "stream",
          "text": [
            "[0.99405809 0.95951372 0.97689568 0.91431935 0.98002485]\n",
            "0.9649623361549118\n"
          ]
        }
      ],
      "source": [
        "dice = np.zeros(5)\n",
        "for i in range(5):\n",
        "    dice[i] = DICE_COE(masks[i], masks_model[i])\n",
        "print(dice)\n",
        "print(np.mean(dice))"
      ]
    },
    {
      "cell_type": "code",
      "execution_count": null,
      "id": "1e7b6fe7",
      "metadata": {
        "id": "1e7b6fe7"
      },
      "outputs": [],
      "source": [
        "num_model = 4"
      ]
    },
    {
      "cell_type": "code",
      "execution_count": null,
      "id": "836682f1",
      "metadata": {
        "id": "836682f1"
      },
      "outputs": [],
      "source": [
        "masks_model = np.load('C:/Users/MK/Nika/2D/exp1/hyperparameter0/val/masks_model'\n",
        "                          + str(num_array) + '_' + str(num_model) + '.npy')"
      ]
    },
    {
      "cell_type": "code",
      "execution_count": null,
      "id": "8466c895",
      "metadata": {
        "id": "8466c895"
      },
      "outputs": [],
      "source": [
        "viewer_data(data, masks_model)"
      ]
    },
    {
      "cell_type": "code",
      "execution_count": null,
      "id": "1f766061",
      "metadata": {
        "id": "1f766061",
        "outputId": "9604618f-6827-4d91-a12a-0679811e4f01"
      },
      "outputs": [
        {
          "name": "stdout",
          "output_type": "stream",
          "text": [
            "[0.99494012 0.96218752 0.97833814 0.92421481 0.98259906]\n",
            "0.9684559306266518\n"
          ]
        }
      ],
      "source": [
        "dice = np.zeros(5)\n",
        "for i in range(5):\n",
        "    dice[i] = DICE_COE(masks[i], masks_model[i])\n",
        "print(dice)\n",
        "print(np.mean(dice))"
      ]
    },
    {
      "cell_type": "markdown",
      "metadata": {
        "id": "6a1000a5"
      },
      "source": [
        "## Calculate the average for 1 model"
      ],
      "id": "6a1000a5"
    },
    {
      "cell_type": "code",
      "execution_count": null,
      "metadata": {
        "id": "52ff7b5b"
      },
      "outputs": [],
      "source": [
        "dice1 = [[0.99620653, 0.84096388, 0.90227014, 0.85376593, 0.98591299],\n",
        "         [0.99377793, 0.95919986, 0.97732937, 0.9302092,  0.9855632 ]]"
      ],
      "id": "52ff7b5b"
    },
    {
      "cell_type": "code",
      "execution_count": null,
      "metadata": {
        "id": "4b3fc90e"
      },
      "outputs": [],
      "source": [
        "dice1 = np.array(dice2)"
      ],
      "id": "4b3fc90e"
    },
    {
      "cell_type": "code",
      "execution_count": null,
      "metadata": {
        "id": "38e9f728",
        "outputId": "f70edfe6-ecca-4335-c75c-2f2445fe6f76"
      },
      "outputs": [
        {
          "data": {
            "text/plain": [
              "array([0.99499223, 0.90008187, 0.93979976, 0.89198756, 0.98573809])"
            ]
          },
          "execution_count": 9,
          "metadata": {},
          "output_type": "execute_result"
        }
      ],
      "source": [
        "dice1.mean(axis = 0)"
      ],
      "id": "38e9f728"
    },
    {
      "cell_type": "markdown",
      "id": "edfeae82",
      "metadata": {
        "id": "edfeae82"
      },
      "source": [
        "# Number of epochs at each cross-validation step"
      ]
    },
    {
      "cell_type": "code",
      "execution_count": null,
      "id": "666131e1",
      "metadata": {
        "id": "666131e1"
      },
      "outputs": [],
      "source": [
        "def show_min_and_argmin_epoch(num_model):\n",
        "    losses_test = np.load('C:/Users/MK/Nika/2D/exp1/hyperparameter0/losses_test' + str(num_model) + '.npy')\n",
        "    print(num_model, ': min loss', np.min(losses_test))\n",
        "    print(num_model, ': argmin loss',np.argmin(losses_test))"
      ]
    },
    {
      "cell_type": "code",
      "execution_count": null,
      "id": "a3f9198b",
      "metadata": {
        "id": "a3f9198b"
      },
      "outputs": [],
      "source": [
        "def show_min_and_argmin_epoch_train(num_model):\n",
        "    losses_train = np.load('C:/Users/MK/Nika/2D/exp1/hyperparameter0/losses_train' + str(num_model) + '.npy')\n",
        "    print(num_model, ': min loss', np.min(losses_train))\n",
        "    print(num_model, ': argmin loss',np.argmin(losses_train))"
      ]
    },
    {
      "cell_type": "code",
      "execution_count": null,
      "id": "40bd3b86",
      "metadata": {
        "id": "40bd3b86",
        "outputId": "5fa244cf-86b6-4f71-a034-a7bb0a94ff08"
      },
      "outputs": [
        {
          "name": "stdout",
          "output_type": "stream",
          "text": [
            "0 : min loss 0.15221190758165903\n",
            "0 : argmin loss 0\n",
            "1 : min loss 0.18455353693570942\n",
            "1 : argmin loss 0\n",
            "2 : min loss 0.08295096243091393\n",
            "2 : argmin loss 1\n",
            "3 : min loss 0.08129526463744696\n",
            "3 : argmin loss 3\n",
            "4 : min loss 0.06562163541093469\n",
            "4 : argmin loss 2\n"
          ]
        }
      ],
      "source": [
        "for i in range(5):\n",
        "    show_min_and_argmin_epoch(i)"
      ]
    },
    {
      "cell_type": "code",
      "execution_count": null,
      "id": "13abc586",
      "metadata": {
        "id": "13abc586",
        "outputId": "43494895-9121-4784-ed4e-988f85e6dba6"
      },
      "outputs": [
        {
          "name": "stdout",
          "output_type": "stream",
          "text": [
            "0 : min loss 0.006675044743360559\n",
            "0 : argmin loss 39\n",
            "1 : min loss 0.006324663155737653\n",
            "1 : argmin loss 39\n",
            "2 : min loss 0.006697344508211245\n",
            "2 : argmin loss 39\n",
            "3 : min loss 0.006813125468852377\n",
            "3 : argmin loss 39\n",
            "4 : min loss 0.006812963859374577\n",
            "4 : argmin loss 39\n"
          ]
        }
      ],
      "source": [
        "for i in range(5):\n",
        "    show_min_and_argmin_epoch_train(i)"
      ]
    }
  ],
  "metadata": {
    "kernelspec": {
      "display_name": "Python (visualization)",
      "language": "python",
      "name": "visualization"
    },
    "language_info": {
      "codemirror_mode": {
        "name": "ipython",
        "version": 3
      },
      "file_extension": ".py",
      "mimetype": "text/x-python",
      "name": "python",
      "nbconvert_exporter": "python",
      "pygments_lexer": "ipython3",
      "version": "3.9.17"
    },
    "colab": {
      "provenance": []
    }
  },
  "nbformat": 4,
  "nbformat_minor": 5
}